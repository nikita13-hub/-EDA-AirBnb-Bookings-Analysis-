{
  "nbformat": 4,
  "nbformat_minor": 0,
  "metadata": {
    "colab": {
      "private_outputs": true,
      "provenance": [],
      "collapsed_sections": [
        "vncDsAP0Gaoa",
        "FJNUwmbgGyua",
        "w6K7xa23Elo4",
        "yQaldy8SH6Dl",
        "PH-0ReGfmX4f",
        "mDgbUHAGgjLW",
        "O_i_v8NEhb9l",
        "HhfV-JJviCcP",
        "Y3lxredqlCYt",
        "3RnN4peoiCZX",
        "x71ZqKXriCWQ",
        "7hBIi_osiCS2",
        "JlHwYmJAmNHm",
        "35m5QtbWiB9F",
        "PoPl-ycgm1ru",
        "H0kj-8xxnORC",
        "nA9Y7ga8ng1Z",
        "PBTbrJXOngz2",
        "u3PMJOP6ngxN",
        "dauF4eBmngu3",
        "bKJF3rekwFvQ",
        "MSa1f5Uengrz",
        "GF8Ens_Soomf",
        "0wOQAZs5pc--",
        "K5QZ13OEpz2H",
        "lQ7QKXXCp7Bj",
        "448CDAPjqfQr",
        "KSlN3yHqYklG",
        "t6dVpIINYklI",
        "ijmpgYnKYklI",
        "-JiQyfWJYklI",
        "EM7whBJCYoAo",
        "fge-S5ZAYoAp",
        "85gYPyotYoAp",
        "RoGjAbkUYoAp",
        "4Of9eVA-YrdM",
        "iky9q4vBYrdO",
        "F6T5p64dYrdO",
        "y-Ehk30pYrdP",
        "bamQiAODYuh1",
        "QHF8YVU7Yuh3",
        "GwzvFGzlYuh3",
        "qYpmQ266Yuh3",
        "OH-pJp9IphqM",
        "bbFf2-_FphqN",
        "_ouA3fa0phqN",
        "Seke61FWphqN",
        "PIIx-8_IphqN",
        "t27r6nlMphqO",
        "r2jJGEOYphqO",
        "b0JNsNcRphqO",
        "BZR9WyysphqO",
        "jj7wYXLtphqO",
        "eZrbJ2SmphqO",
        "rFu4xreNphqO",
        "YJ55k-q6phqO",
        "gCFgpxoyphqP",
        "OVtJsKN_phqQ",
        "lssrdh5qphqQ",
        "U2RJ9gkRphqQ",
        "1M8mcRywphqQ",
        "tgIPom80phqQ",
        "JMzcOPDDphqR",
        "x-EpHcCOp1ci",
        "X_VqEhTip1ck",
        "8zGJKyg5p1ck",
        "PVzmfK_Ep1ck",
        "n3dbpmDWp1ck",
        "ylSl6qgtp1ck",
        "ZWILFDl5p1ck",
        "M7G43BXep1ck",
        "Ag9LCva-p1cl",
        "E6MkPsBcp1cl",
        "2cELzS2fp1cl",
        "3MPXvC8up1cl",
        "NC_X3p0fY2L0",
        "UV0SzAkaZNRQ",
        "YPEH6qLeZNRQ",
        "q29F0dvdveiT",
        "EXh0U9oCveiU",
        "22aHeOlLveiV",
        "JcMwzZxoAimU",
        "8G2x9gOozGDZ",
        "gCX9965dhzqZ",
        "gIfDvo9L0UH2"
      ],
      "include_colab_link": true
    },
    "kernelspec": {
      "name": "python3",
      "display_name": "Python 3"
    },
    "language_info": {
      "name": "python"
    }
  },
  "cells": [
    {
      "cell_type": "markdown",
      "metadata": {
        "id": "view-in-github",
        "colab_type": "text"
      },
      "source": [
        "<a href=\"https://colab.research.google.com/github/nikita13-hub/-EDA-AirBnb-Bookings-Analysis-/blob/main/Copy_of_Sample_EDA_Submission_Template__Nikita.ipynb\" target=\"_parent\"><img src=\"https://colab.research.google.com/assets/colab-badge.svg\" alt=\"Open In Colab\"/></a>"
      ]
    },
    {
      "cell_type": "markdown",
      "source": [
        "# **Project Name**    - AirBnb Bookings Analysis\n",
        "\n",
        "\n"
      ],
      "metadata": {
        "id": "vncDsAP0Gaoa"
      }
    },
    {
      "cell_type": "markdown",
      "source": [
        "##### **Project Type**    - Exploratory Data Analysis\n",
        "##### **Contribution**    - Individual\n"
      ],
      "metadata": {
        "id": "beRrZCGUAJYm"
      }
    },
    {
      "cell_type": "markdown",
      "source": [
        "# **Project Summary -**"
      ],
      "metadata": {
        "id": "FJNUwmbgGyua"
      }
    },
    {
      "cell_type": "markdown",
      "source": [
        "This project is about analyzing a dataset with around 49,000 entries to find useful insights that can help management and stakeholders make better decisions. The goal is to discover ways to grow and improve the business. By looking for patterns in the data, we aim to provide suggestions that will benefit both guests and hosts.\n",
        "\n",
        "\n",
        "The dataset includes information such as:\n",
        "\n",
        "* Number of listings in different neighborhood groups.\n",
        "* Prices for the listings.\n",
        "* Reviews that show guest satisfaction.\n",
        "* Room types that guests prefer.\n",
        "\n",
        "Using this data, we will answer important questions like:\n",
        "\n",
        "* What types of rooms are most popular with guests?\n",
        "* What price ranges are preferred?\n",
        "* Which neighborhoods are the most in demand?\n",
        "* How can we match guests with listings based on their budget and preferences?\n",
        "We will also create a system to rank hosts based on how well they meet guest needs. This will help identify top-performing hosts and guide others on how to improve their services. By focusing on what customers want and offering personalized options, this project will improve guest satisfaction and help hosts attract more bookings.\n",
        "\n",
        "For the analysis, we will use tools like:\n",
        "\n",
        "* Pandas to clean and organize the data so it’s easier to understand.\n",
        "* NumPy to do calculations, especially for ranking hosts and analyzing numbers.\n",
        "* Matplotlib and Seaborn to create graphs and charts that show the results clearly.\n",
        "\n",
        "This project is not just about analyzing data; it’s also a great learning opportunity. It will help me understand how businesses in this field work and how to solve real-world problems. I’ll improve my ability to identify issues, think critically, and create effective solutions.\n",
        "\n",
        "\n",
        "From a data science perspective, I’ll get better at using Python libraries and applying advanced techniques to make sense of data. I’ll also learn how to turn data into a story that makes it easy for stakeholders to see what actions they should take.\n",
        "\n",
        "\n",
        "By working on this project, I’ll gain valuable skills and experience in handling real-life challenges. It will help me improve my technical knowledge, problem-solving abilities, and understanding of business needs.\n",
        "\n",
        "\n",
        "In short, this project will provide useful insights to grow the business, improve guest experiences, and help hosts perform better. At the same time, it will help me develop important skills and knowledge that I can use in future projects.\n",
        "\n",
        "\n",
        "\n"
      ],
      "metadata": {
        "id": "F6v_1wHtG2nS"
      }
    },
    {
      "cell_type": "markdown",
      "source": [
        "# **GitHub Link -**"
      ],
      "metadata": {
        "id": "w6K7xa23Elo4"
      }
    },
    {
      "cell_type": "markdown",
      "source": [],
      "metadata": {
        "id": "h1o69JH3Eqqn"
      }
    },
    {
      "cell_type": "markdown",
      "source": [
        "# **Problem Statement**\n"
      ],
      "metadata": {
        "id": "yQaldy8SH6Dl"
      }
    },
    {
      "cell_type": "markdown",
      "source": [
        "The task of this project is to derive insights from the given dataset so that it can be used by the stake holders for business improvements"
      ],
      "metadata": {
        "id": "DpeJGUA3kjGy"
      }
    },
    {
      "cell_type": "markdown",
      "source": [
        "#### **Define Your Business Objective?**"
      ],
      "metadata": {
        "id": "PH-0ReGfmX4f"
      }
    },
    {
      "cell_type": "markdown",
      "source": [
        "\n",
        "The objective of this project is to identify areas for improvement and uncover patterns and insights into customer preferences. These insights will guide strategies aimed at enhancing customer satisfaction and fostering long-term loyalty.\n",
        "\n",
        "This version is concise and communicates the purpose effectively while maintaining a professional tone."
      ],
      "metadata": {
        "id": "PhDvGCAqmjP1"
      }
    },
    {
      "cell_type": "markdown",
      "source": [
        "# **General Guidelines** : -  "
      ],
      "metadata": {
        "id": "mDgbUHAGgjLW"
      }
    },
    {
      "cell_type": "markdown",
      "source": [
        "1.   Well-structured, formatted, and commented code is required.\n",
        "2.   Exception Handling, Production Grade Code & Deployment Ready Code will be a plus. Those students will be awarded some additional credits.\n",
        "     \n",
        "     The additional credits will have advantages over other students during Star Student selection.\n",
        "       \n",
        "             [ Note: - Deployment Ready Code is defined as, the whole .ipynb notebook should be executable in one go\n",
        "                       without a single error logged. ]\n",
        "\n",
        "3.   Each and every logic should have proper comments.\n",
        "4. You may add as many number of charts you want. Make Sure for each and every chart the following format should be answered.\n",
        "        \n",
        "\n",
        "```\n",
        "# Chart visualization code\n",
        "```\n",
        "            \n",
        "\n",
        "*   Why did you pick the specific chart?\n",
        "*   What is/are the insight(s) found from the chart?\n",
        "* Will the gained insights help creating a positive business impact?\n",
        "Are there any insights that lead to negative growth? Justify with specific reason.\n",
        "\n",
        "5. You have to create at least 20 logical & meaningful charts having important insights.\n",
        "\n",
        "\n",
        "[ Hints : - Do the Vizualization in  a structured way while following \"UBM\" Rule.\n",
        "\n",
        "U - Univariate Analysis,\n",
        "\n",
        "B - Bivariate Analysis (Numerical - Categorical, Numerical - Numerical, Categorical - Categorical)\n",
        "\n",
        "M - Multivariate Analysis\n",
        " ]\n",
        "\n",
        "\n",
        "\n"
      ],
      "metadata": {
        "id": "ZrxVaUj-hHfC"
      }
    },
    {
      "cell_type": "markdown",
      "source": [
        "# ***Let's Begin !***"
      ],
      "metadata": {
        "id": "O_i_v8NEhb9l"
      }
    },
    {
      "cell_type": "markdown",
      "source": [
        "## ***1. Know Your Data***"
      ],
      "metadata": {
        "id": "HhfV-JJviCcP"
      }
    },
    {
      "cell_type": "markdown",
      "source": [
        "### Import Libraries"
      ],
      "metadata": {
        "id": "Y3lxredqlCYt"
      }
    },
    {
      "cell_type": "code",
      "source": [
        "# Import Libraries\n",
        "import pandas as pd  # For data manipulation and analysis\n",
        "import numpy as np  # For numerical computations\n",
        "from matplotlib import pyplot as plt  # For data visualization\n",
        "import math  # For mathematical operations\n",
        "import seaborn as sns  # For statistical data visualization\n",
        "\n",
        "\n"
      ],
      "metadata": {
        "id": "M8Vqi-pPk-HR"
      },
      "execution_count": null,
      "outputs": []
    },
    {
      "cell_type": "markdown",
      "source": [
        "### Dataset Loading"
      ],
      "metadata": {
        "id": "3RnN4peoiCZX"
      }
    },
    {
      "cell_type": "code",
      "source": [
        "# Load Dataset\n",
        "'''Creating a dataframe of the given dataset'''\n",
        "airbnb_df = pd.DataFrame(pd.read_csv('/content/Airbnb NYC 2019 (1).csv'))"
      ],
      "metadata": {
        "id": "4CkvbW_SlZ_R"
      },
      "execution_count": null,
      "outputs": []
    },
    {
      "cell_type": "markdown",
      "source": [
        "### Dataset First View"
      ],
      "metadata": {
        "id": "x71ZqKXriCWQ"
      }
    },
    {
      "cell_type": "code",
      "source": [
        "from google.colab import drive\n",
        "drive.mount('/content/drive')"
      ],
      "metadata": {
        "id": "aBHeX9iHwv0E"
      },
      "execution_count": null,
      "outputs": []
    },
    {
      "cell_type": "code",
      "source": [
        "# Dataset First Look\n",
        "airbnb_df.head(5)"
      ],
      "metadata": {
        "id": "LWNFOSvLl09H",
        "collapsed": true
      },
      "execution_count": null,
      "outputs": []
    },
    {
      "cell_type": "code",
      "source": [
        "# Let's check for all the columns we have in our dataset.\n",
        "airbnb_df.columns"
      ],
      "metadata": {
        "id": "wQ2_xMxL5uCp"
      },
      "execution_count": null,
      "outputs": []
    },
    {
      "cell_type": "markdown",
      "source": [
        "### Dataset Rows & Columns count"
      ],
      "metadata": {
        "id": "7hBIi_osiCS2"
      }
    },
    {
      "cell_type": "code",
      "source": [
        "# Dataset Rows & Columns count\n",
        "airbnb_df.shape\n"
      ],
      "metadata": {
        "id": "Kllu7SJgmLij"
      },
      "execution_count": null,
      "outputs": []
    },
    {
      "cell_type": "markdown",
      "source": [
        "### Dataset Information"
      ],
      "metadata": {
        "id": "JlHwYmJAmNHm"
      }
    },
    {
      "cell_type": "code",
      "source": [
        "# Dataset Info\n",
        "airbnb_df.info()"
      ],
      "metadata": {
        "id": "e9hRXRi6meOf"
      },
      "execution_count": null,
      "outputs": []
    },
    {
      "cell_type": "markdown",
      "source": [
        "###### Here we can see the division of Categorical and Numerical values in our dataset, We can see:-\n",
        "\n",
        "* 3 columns have float64 data values (Numerical)\n",
        "* 7 columns have int64 data type values (Numerical)\n",
        "* 6 columns have object data type values (Categorical)"
      ],
      "metadata": {
        "id": "YZRakpV_6X1h"
      }
    },
    {
      "cell_type": "markdown",
      "source": [
        "#### Duplicate Values"
      ],
      "metadata": {
        "id": "35m5QtbWiB9F"
      }
    },
    {
      "cell_type": "code",
      "source": [
        "# Dataset Duplicate Value count\n",
        "duplicated_values = airbnb_df[airbnb_df.duplicated()]\n",
        "duplicated_values\n"
      ],
      "metadata": {
        "id": "1sLdpKYkmox0"
      },
      "execution_count": null,
      "outputs": []
    },
    {
      "cell_type": "code",
      "source": [
        "# Let us first check for 'id' column.\n",
        "duplicated_id = airbnb_df[airbnb_df.duplicated(subset=['id'])]\n",
        "duplicated_id"
      ],
      "metadata": {
        "id": "smn1DM516zf0"
      },
      "execution_count": null,
      "outputs": []
    },
    {
      "cell_type": "code",
      "source": [
        "# Now let us check for 'name' column.\n",
        "duplicated_name = airbnb_df[airbnb_df.duplicated(subset=['name'])]\n",
        "duplicated_name"
      ],
      "metadata": {
        "id": "xZN6z96h6385"
      },
      "execution_count": null,
      "outputs": []
    },
    {
      "cell_type": "code",
      "source": [
        "# We can check for any specific row having the name value included in the duplicated data, using the query command.\n",
        "# Let's check for where name is 'Superior @ Box House', which is in our duplicated data.\n",
        "airbnb_df.query('name == \"Superior @ Box House\"')"
      ],
      "metadata": {
        "id": "Id6urQPu7CWZ"
      },
      "execution_count": null,
      "outputs": []
    },
    {
      "cell_type": "code",
      "source": [
        "# To tackle this issue we will create a new data frame in which we will include\n",
        "# only those columns which are really important for us.\n",
        "airbnb_df = airbnb_df[['id', 'name', 'host_id', 'host_name', 'neighbourhood_group',\n",
        "       'neighbourhood', 'latitude', 'longitude', 'room_type', 'price',\n",
        "       'minimum_nights', 'number_of_reviews', 'last_review',\n",
        "       'reviews_per_month', 'calculated_host_listings_count',\n",
        "       'availability_365']].copy()"
      ],
      "metadata": {
        "id": "UZgfHqOI7FuF"
      },
      "execution_count": null,
      "outputs": []
    },
    {
      "cell_type": "code",
      "source": [
        "# Let's check for the duplicated values of any other row.\n",
        "airbnb_df.query('name == \"Loft w/ Terrace @ Box House Hotel\"')"
      ],
      "metadata": {
        "id": "868okdEt7K9z"
      },
      "execution_count": null,
      "outputs": []
    },
    {
      "cell_type": "code",
      "source": [
        "# In this case we will seek out the duplicated values for those columns which\n",
        "# are concerning and may effect the data if duplicated.\n",
        "\n",
        "# Checking for the values where - 'name', 'host_name','neighbourhood_group', 'neighbourhood', 'room_type' are duplicated.\n",
        "airbnb_df.loc[airbnb_df.duplicated(subset= ['name', 'host_name', 'neighbourhood_group', 'neighbourhood', 'room_type'])]"
      ],
      "metadata": {
        "id": "WKuo-hl-7PSG"
      },
      "execution_count": null,
      "outputs": []
    },
    {
      "cell_type": "code",
      "source": [
        "# Let's check for any specific value.\n",
        "airbnb_df.query('name == \"✿✿✿ COUNTRY COTTAGE IN THE CITY✿✿✿\"')"
      ],
      "metadata": {
        "id": "sT3R6y517TZ4"
      },
      "execution_count": null,
      "outputs": []
    },
    {
      "cell_type": "code",
      "source": [
        "# Converting the 'last_review' column in a datetime format.\n",
        "airbnb_df['last_review'] = pd.to_datetime(airbnb_df['last_review'])"
      ],
      "metadata": {
        "id": "5qJP-Yii7ZhX"
      },
      "execution_count": null,
      "outputs": []
    },
    {
      "cell_type": "code",
      "source": [
        "# Now let us sort the data by the last_review column\n",
        "airbnb_df = airbnb_df.sort_values(by='last_review', ascending=False).reset_index(drop=True)"
      ],
      "metadata": {
        "id": "6MasTKZ77dhv"
      },
      "execution_count": null,
      "outputs": []
    },
    {
      "cell_type": "code",
      "source": [
        "# Replacing NA Values\n",
        "airbnb_df['last_review'].replace(np.nan,airbnb_df['last_review'].max(), inplace=True)\n",
        "\n",
        "# Let's sort the values again\n",
        "airbnb_df = airbnb_df.sort_values(by='last_review', ascending=False).reset_index(drop=True)"
      ],
      "metadata": {
        "id": "r1UgJv647hDR"
      },
      "execution_count": null,
      "outputs": []
    },
    {
      "cell_type": "code",
      "source": [
        "# Dropping duplicated values\n",
        "airbnb_df = airbnb_df.drop_duplicates(subset=['name', 'host_name', 'neighbourhood_group', 'neighbourhood', 'room_type'], keep='first').reset_index(drop=True)\n",
        "\n",
        "# Now the duplicated columns have been dropped, let's check the current shape of our data frame.\n",
        "airbnb_df.shape # (48655, 14)\n",
        "\n",
        "# Let's check if there are any duplicated values now\n",
        "airbnb_df[airbnb_df.duplicated(subset=['name', 'host_name', 'neighbourhood_group', 'neighbourhood', 'room_type'])] # No values\n",
        "\n",
        "airbnb_df.query('name == \"✿✿✿ COUNTRY COTTAGE IN THE CITY✿✿✿\"') # The latest value shows up"
      ],
      "metadata": {
        "id": "9_sDDtgf7laj"
      },
      "execution_count": null,
      "outputs": []
    },
    {
      "cell_type": "markdown",
      "source": [
        "#### Missing Values/Null Values"
      ],
      "metadata": {
        "id": "PoPl-ycgm1ru"
      }
    },
    {
      "cell_type": "code",
      "source": [
        "# Missing Values/Null Values count\n",
        "null_values = airbnb_df.isnull()\n",
        "null_value_count = null_values.sum()\n"
      ],
      "metadata": {
        "id": "GgHWkxvamxVg"
      },
      "execution_count": null,
      "outputs": []
    },
    {
      "cell_type": "code",
      "source": [
        "# Visualizing the missing values\n",
        "null_value_count"
      ],
      "metadata": {
        "id": "3q5wnI3om9sJ"
      },
      "execution_count": null,
      "outputs": []
    },
    {
      "cell_type": "code",
      "source": [
        "# To check the outliers we need to check the columns which are having numerical data.\n",
        "airbnb_df.describe()"
      ],
      "metadata": {
        "id": "TsWXL55H8Fsw"
      },
      "execution_count": null,
      "outputs": []
    },
    {
      "cell_type": "code",
      "source": [
        "# As we see above the column_name 'calculated_host_listings_count' is quiet long\n",
        "# Let's change it to 'listings'\n",
        "airbnb_df.rename(columns={\n",
        "    \"calculated_host_listings_count\": 'listings'\n",
        "}, inplace=True)\n",
        "\n",
        "# Lets check the price columns once\n",
        "airbnb_df['price'].describe()\n",
        "\n",
        "# As we can see the min price is 0 which is not likely to happen.\n",
        "# According to the current website the price range starts from $25.\n",
        "# In this case we will check for the prices which are below $25 and we will\n",
        "# replace their values with 25 so that we can handle the outliers in price column.\n",
        "\n",
        "airbnb_df['price'].replace(range(0, 25), 25, inplace=True) # replacing values\n",
        "airbnb_df['price'].describe()"
      ],
      "metadata": {
        "id": "ovs_bHla8JEV"
      },
      "execution_count": null,
      "outputs": []
    },
    {
      "cell_type": "markdown",
      "source": [
        "### What did you know about your dataset?"
      ],
      "metadata": {
        "id": "H0kj-8xxnORC"
      }
    },
    {
      "cell_type": "markdown",
      "source": [
        "The Airbnb NYC 2019 Dataset has:- Rows = 48895 Columns = 16\n",
        "\n",
        "We can see the division of Categorical and Numerical values in our dataset, We can see:-\n",
        "\n",
        "\n",
        "3 columns have float64 data values (Numerical) 7 columns have int64 data type values (Numerical) 6 columns have object data type values (Categorical)\n",
        "\n",
        "\n",
        "The dataset contains both numerical and categorical data.\n",
        "\n",
        "\n",
        "The primary key of our dataset is the \"id\" column, having a unique IDs for the hotel names.\n",
        "\n",
        "\n",
        "Here is the list of columns:- ['id', 'name', 'host_id', 'host_name', 'neighbourhood_group', 'neighbourhood', 'latitude', 'longitude', 'room_type', 'price', 'minimum_nights', 'number_of_reviews', 'last_review', 'reviews_per_month', 'calculated_host_listings_count', 'availability_365']\n",
        "\n",
        "\n",
        "This dataset had no exact duplicated values, however in the name column there were 998 rows that were duplicates. Where all the values were almost the same, except for the prices, there might be a chances that the prices were altered with time as per the market condition however the hotel was the same.\n",
        "\n",
        "\n",
        "To handle these values we sorted our dataframe on the basis of latest entries, for which we needed a timestamp in our dataset. In our dataset we were able to use the 'last_review' column as the timestamp for our dataset.\n",
        "\n",
        "\n",
        "After doing few operation we were successfully able to handle our duplicated values.\n",
        "\n",
        "These are columns that majorly has the null values:-\n",
        "\n",
        "\n",
        "* last_review = 10052\n",
        "* reviews_per_month = 10052\n",
        "\n",
        "As the date column was missing values we replaced the NA values with the latest date present in our dataset, so that the time stamp could be efficient.\n",
        "\n",
        "\n",
        "We are also missing few \"Names\" as well as \"Host Names\":-\n",
        "\n",
        "* name = 16\n",
        "* host_name = 21\n",
        "\n",
        "We have now successfully formatted our dataframe and it is now ready for data wrangling."
      ],
      "metadata": {
        "id": "gfoNAAC-nUe_"
      }
    },
    {
      "cell_type": "markdown",
      "source": [
        "## ***2. Understanding Your Variables***"
      ],
      "metadata": {
        "id": "nA9Y7ga8ng1Z"
      }
    },
    {
      "cell_type": "code",
      "source": [
        "# Looking on our data once\n",
        "airbnb_df.head()"
      ],
      "metadata": {
        "id": "FdYkVwUI9Bou"
      },
      "execution_count": null,
      "outputs": []
    },
    {
      "cell_type": "code",
      "source": [
        "# Dataset Columns\n",
        "df_columns = airbnb_df.columns\n",
        "df_columns # All the columns of our cleaned data."
      ],
      "metadata": {
        "id": "j7xfkqrt5Ag5"
      },
      "execution_count": null,
      "outputs": []
    },
    {
      "cell_type": "markdown",
      "source": [
        "There are basically 3 types of variables according to their roles:-\n",
        "\n",
        "\n",
        "Numerical Variables: These variables represent quantitative data and can be further categorized into:-\n",
        "\n",
        "\n",
        "* Continuous Variables: These variables can take any value within the given number of range.\n",
        "\n",
        "* Discrete Variables: These variables are having a specific value and are related to a specific identity.\n",
        "\n",
        "Categorical Variables: These variables represent qualitative data and can be further categorized into:-\n",
        "\n",
        "\n",
        "* Nominal Variables: These variables are random and they do not follow any order or ranking.\n",
        "\n",
        "* Ordinal Variables: These variables are according to an order they can be ranked as well.\n",
        "\n",
        "Time Variables: These variables are basically date and time variables having a timestamp."
      ],
      "metadata": {
        "id": "_9AD59OP9MvH"
      }
    },
    {
      "cell_type": "code",
      "source": [
        "# Dataset Describe\n",
        "df_describe = airbnb_df.describe()\n",
        "df_describe # These are all the numerical variables in our dataset."
      ],
      "metadata": {
        "id": "DnOaZdaE5Q5t"
      },
      "execution_count": null,
      "outputs": []
    },
    {
      "cell_type": "markdown",
      "source": [
        "### Variables Description"
      ],
      "metadata": {
        "id": "PBTbrJXOngz2"
      }
    },
    {
      "cell_type": "markdown",
      "source": [
        "As we can see that we are having various outputs that can be studied so as to attain certain measures and draw conclusions on the basis of the data. For example: we have a wide range of prices available, however the average price range prefered by the customers are around 150, which gives us an idea on the budget of the guests and their preference."
      ],
      "metadata": {
        "id": "aJV4KIxSnxay"
      }
    },
    {
      "cell_type": "markdown",
      "source": [
        "### Check Unique Values for each variable."
      ],
      "metadata": {
        "id": "u3PMJOP6ngxN"
      }
    },
    {
      "cell_type": "code",
      "source": [
        "# Check Unique Values for each variable.\n",
        "def unique_value(df):\n",
        "  for column in df.columns:\n",
        "    unique_values = df[column].unique()\n",
        "    print(f\"Unique values for '{column}': {unique_values}\")"
      ],
      "metadata": {
        "id": "zms12Yq5n-jE"
      },
      "execution_count": null,
      "outputs": []
    },
    {
      "cell_type": "markdown",
      "source": [
        "## 3. ***Data Wrangling***"
      ],
      "metadata": {
        "id": "dauF4eBmngu3"
      }
    },
    {
      "cell_type": "markdown",
      "source": [
        "### Data Wrangling Code\n",
        "As our Data cleaning, Data transformation, and Handling outliers has been completed, now we will be working on \"Feature Engineering\".\n",
        "\n"
      ],
      "metadata": {
        "id": "bKJF3rekwFvQ"
      }
    },
    {
      "cell_type": "code",
      "source": [
        "# Let's create a new column with the price range distribution.\n",
        "# We will use it while working with the price column.\n",
        "start = 0\n",
        "end = 10000\n",
        "breakpoints = np.linspace(start, end, num=101)\n",
        "breakpoints = breakpoints.astype(int)\n",
        "def price_range(amt):\n",
        "    bp = breakpoints\n",
        "    for i in range(len(breakpoints)-1):\n",
        "        if bp[i] <= amt <= bp[i+1]:\n",
        "            return f\"{bp[i]} - {bp[i+1]}\"\n",
        "\n",
        "\n",
        "airbnb_df['price_range'] = airbnb_df['price'].apply(lambda amt: price_range(amt))\n",
        "airbnb_df['price_range']"
      ],
      "metadata": {
        "id": "OYXqWDqtHv2B"
      },
      "execution_count": null,
      "outputs": []
    },
    {
      "cell_type": "markdown",
      "source": [
        "Creating this price range column can provide us these benefits:-\n",
        "\n",
        "Data Summarization: As this will provide an effective summary of the price distribution in our dataset.\n",
        "\n",
        "Visualization: on a price range instead of individual price column is much more effective.\n",
        "\n",
        "Segmentation and Analysis: As it will divide the prices into different segments it would be really easy to compare the prices into different segments or ranges.\n",
        "\n",
        "Decision Making: It can help us in various decisions making, into different scenarios, like we can use this info to provide recommendations to the customers according to their budget and rerquirements.\n",
        "\n",
        "Communicating Insights: Price range can easily communicate the budget and preferences of our customers and it can also tell us where does the majority of our cutomers lies, according to their purchasing power."
      ],
      "metadata": {
        "id": "bqM_1pAcH1US"
      }
    },
    {
      "cell_type": "code",
      "source": [
        "# Let's take a look at our dataset once.\n",
        "airbnb_df.head()\n",
        "\n",
        "# As we can see our dataset is sorted according to the last review, let us sort our dataset according to the price.\n",
        "airbnb_df.sort_values(by='price', ascending=False, inplace=True)\n",
        "\n",
        "# Let's take a look at our price sorted dataset once.\n",
        "airbnb_df.head()"
      ],
      "metadata": {
        "id": "zb53lPtyIAJ-"
      },
      "execution_count": null,
      "outputs": []
    },
    {
      "cell_type": "code",
      "source": [
        "# Let us check our columns and filter those columns that will work as our features.\n",
        "airbnb_df.columns"
      ],
      "metadata": {
        "id": "hzTtTBpbIDYF"
      },
      "execution_count": null,
      "outputs": []
    },
    {
      "cell_type": "markdown",
      "source": [
        "We can consider these columns to be our features so that we can work with these:-\n",
        "\n",
        "* id\n",
        "* host_id\n",
        "* neighbourhood_group\n",
        "* neighbourhood\n",
        "* room_type\n",
        "* price\n",
        "* price_range\n",
        "* minimum_nights\n",
        "* number_of_reviews\n",
        "* reviews_per_month\n",
        "* listings\n",
        "* availability_365"
      ],
      "metadata": {
        "id": "yYWh-jDKIJ8I"
      }
    },
    {
      "cell_type": "code",
      "source": [
        "# Let filter the dataframe with only the required columns.\n",
        "feature_df = airbnb_df[['id', 'name', 'host_id', 'neighbourhood_group',\n",
        "       'neighbourhood', 'room_type', 'price', 'minimum_nights',\n",
        "       'number_of_reviews', 'reviews_per_month', 'listings',\n",
        "       'availability_365', 'price_range']]\n",
        "\n",
        "feature_df = feature_df.reset_index(drop=True)\n",
        "feature_df.head()"
      ],
      "metadata": {
        "id": "Sc49jW1bIYWd"
      },
      "execution_count": null,
      "outputs": []
    },
    {
      "cell_type": "code",
      "source": [
        "feature_df.head()"
      ],
      "metadata": {
        "id": "CSPoXu5yIcts"
      },
      "execution_count": null,
      "outputs": []
    },
    {
      "cell_type": "markdown",
      "source": [
        "As we can see we are having few groups in our datasets, let us check what all insights we can derive from them, by seeking information according to the groups."
      ],
      "metadata": {
        "id": "ieMXx6B3IgSp"
      }
    },
    {
      "cell_type": "code",
      "source": [
        "# Let's check the top performing Host as per the total listing count\n",
        "host_groups = feature_df.groupby('name')\n",
        "hosts = []\n",
        "no_of_listings = []\n",
        "host_prices = []\n",
        "for host, data in host_groups:\n",
        "  hosts.append(host)\n",
        "  no_of_listings.append(data['listings'].sum())\n",
        "  host_prices.append(data['price'].mean())\n",
        "\n",
        "host_df = pd.DataFrame({\n",
        "    'Host Name': hosts,\n",
        "    'Total Listings': no_of_listings,\n",
        "    'Price': host_prices\n",
        "})\n",
        "host_df = host_df.sort_values(by='Total Listings', ascending=False).reset_index(drop=True)\n",
        "host_df = host_df.drop_duplicates(subset='Total Listings').reset_index(drop=True)\n",
        "top_10_hosts = host_df.head(10)\n",
        "\n",
        "host_df['Revenue'] = (host_df['Total Listings'])*(host_df['Price'])\n",
        "top_host_revenue = host_df.sort_values(by='Revenue', ascending=False).reset_index(drop=True)\n",
        "top_host_revenue.head(10)"
      ],
      "metadata": {
        "id": "eHwARuD4IlmV"
      },
      "execution_count": null,
      "outputs": []
    },
    {
      "cell_type": "code",
      "source": [
        "# First let's check how many neighbourhood_groups are there.\n",
        "feature_df['neighbourhood_group'].unique() # There are 5 different groups.\n",
        "\n",
        "# ['Brooklyn', 'Queens', 'Manhattan', 'Staten Island', 'Bronx']\n",
        "#  let's group our dataset according to the neighbourhood groups.\n",
        "\n",
        "n_groups = feature_df.groupby('neighbourhood_group')\n",
        "\n",
        "# Let's check which group is most prefered as per the listings, and no. of reviews.\n",
        "groups = [] # To save the groups\n",
        "listings = []\n",
        "reviews = []\n",
        "max_price = []\n",
        "min_price = []\n",
        "for group, data in n_groups:\n",
        "  groups.append(group)\n",
        "  listings.append(data['listings'].sum())\n",
        "  reviews.append(data['number_of_reviews'].sum())\n",
        "  max_price.append(data['price'].max())\n",
        "  min_price.append(data['price'].min())\n",
        "\n",
        "group_feat_df = pd.DataFrame({\n",
        "    'Group': groups,\n",
        "    'Listing Count': listings,\n",
        "    'No._of_reviews': reviews,\n",
        "    'Min Price': min_price,\n",
        "    'Max Price': max_price\n",
        "})\n",
        "\n",
        "group_feat_df\n",
        "# Here we can see that Manhattan group is the most prefered group as per the listings.\n",
        "# However the most reviews are given to the Brooklyn group.\n",
        "\n",
        "# Now let's divide our dataset as per the room types, and create their groups.\n",
        "# First let's check how room_types are there.\n",
        "\n",
        "feature_df['room_type'].unique() # There are 3 room types.\n",
        "\n",
        "# ['Entire home/apt', 'Private room', 'Shared room']\n",
        "#  let's group our dataset according to the room types.\n",
        "\n",
        "room_groups = feature_df.groupby('room_type')\n",
        "rooms = []\n",
        "room_listings = []\n",
        "room_reviews = []\n",
        "max_room_price = []\n",
        "min_room_price = []\n",
        "for room_type, room_data in room_groups:\n",
        "    rooms.append(room_type)\n",
        "    room_listings.append(room_data['listings'].sum())\n",
        "    max_room_price.append(room_data['price'].max())\n",
        "    min_room_price.append(room_data['price'].min())\n",
        "\n",
        "room_feat_df = pd.DataFrame({\n",
        "    'Group': rooms,\n",
        "    'Listing Count': room_listings,\n",
        "    'Min Price': min_room_price,\n",
        "    'Max Price': max_room_price\n",
        "})\n",
        "\n",
        "room_feat_df\n",
        "# Here we can see the most prefered room type is the Entire home/apt.\n",
        "# The most reviews are also given to the Entire home/apt.\n",
        "# Shared rooms are the least prefered."
      ],
      "metadata": {
        "id": "GvrJdpXSItro"
      },
      "execution_count": null,
      "outputs": []
    },
    {
      "cell_type": "code",
      "source": [
        "# Now let us check how many different neighbourhoods are there in total.\n",
        "feature_df['neighbourhood'].count() # There are 48655 neighbourhoods\n",
        "\n",
        "# Now let us check what are the top 10 most prefered neighbourhoods.\n",
        "# Also, let's check their average pricing and average price range.\n",
        "area_groups = feature_df.groupby('neighbourhood')\n",
        "areas = []\n",
        "listing_count = []\n",
        "avg_price = []\n",
        "for area, n_data in area_groups:\n",
        "  areas.append(area)\n",
        "  listing_count.append(n_data['listings'].sum())\n",
        "  avg_price.append(round(n_data['price'].mean(), 2))\n",
        "\n",
        "area_feat_df = pd.DataFrame({\n",
        "    'Area': areas,\n",
        "    'Listing Count': listing_count,\n",
        "    'Average Price': avg_price,\n",
        "})\n",
        "\n",
        "area_feat_df = area_feat_df.sort_values(by='Listing Count', ascending=False).reset_index(drop=True)\n",
        "area_feat_df.head(10)"
      ],
      "metadata": {
        "id": "iISHZrbDIzS2"
      },
      "execution_count": null,
      "outputs": []
    },
    {
      "cell_type": "markdown",
      "source": [
        "In the above manipulations we have created and worked with few groups that were there in our dataset, based upon which we were able to derive few insights."
      ],
      "metadata": {
        "id": "jK2xgnEKI6eH"
      }
    },
    {
      "cell_type": "code",
      "source": [
        "# Let us now work with relationships.\n",
        "# Relationship: Price vs. Room Type\n",
        "# Checking the distribution of prices for different room types.\n",
        "# \"room_groups\" is our grouped dataframe we will be using this.\n",
        "\n",
        "avg_room_price = []\n",
        "for room, data in room_groups:\n",
        "  avg_room_price.append(data['price'].mean())\n",
        "\n",
        "room_vs_price = pd.DataFrame({\n",
        "    'Room Type': rooms,\n",
        "    'Avg_Price': avg_room_price\n",
        "})\n",
        "\n",
        "room_vs_price\n",
        "\n",
        "# As we can see here the Entire home/apt is having the highest pricing."
      ],
      "metadata": {
        "id": "Dsi0iz8dI9tw"
      },
      "execution_count": null,
      "outputs": []
    },
    {
      "cell_type": "code",
      "source": [
        "# Relationship: Reviews per Month vs. Room Type\n",
        "# Comparing the distribution of reviews per month for different room types.\n",
        "\n",
        "total_reviews = []\n",
        "for room, data in room_groups:\n",
        "  total_reviews.append(data['reviews_per_month'].sum())\n",
        "\n",
        "room_vs_reviews = pd.DataFrame({\n",
        "    'Room Type': rooms,\n",
        "    'Reviews': total_reviews\n",
        "})\n",
        "\n",
        "room_vs_reviews\n",
        "# As we can see here the Entire home/apt is having the highest no. of reviews per month."
      ],
      "metadata": {
        "id": "2X40i8nXJBP0"
      },
      "execution_count": null,
      "outputs": []
    },
    {
      "cell_type": "markdown",
      "source": [
        "### What all manipulations have you done and insights you found?\n",
        "This dataset was having good amount of well distributed information, which was a plus point for our study. As this dataset if of Airbnb, the locations play a very crucial role in these values and the inforamtion was distributed well as per the locations and their respective areas.\n",
        "\n",
        "We have done number of manipulations to seek information which can be beneficial for the stake holders to make decisions for the business, not only that our hosts will also get good idea about the preferences of their customers, as we promised in our agenda.\n",
        "\n",
        "We divided the complete manipulation into 2 major parts, as per the features and the relationships, so that we can draw insights accordingly.\n",
        "\n",
        "These are the manipulations we followed:-\n",
        "\n",
        "* Created a new price range column: As this columns will help us to categorize the price distribution and to simplify the judgement for us to get an idea of the budget of our customer, we have tried to keep it as precise as possible.\n",
        "\n",
        "* Sorted the dataset as per price: As the data wasn't sorted and was not having any significance regaring any value, we sorted it as per the pricing, keep the most expensive ones on the top.\n",
        "\n",
        "\n",
        "* We filtered the data so that it becomes simple and easy to understand(less chaotic) for us to work only with those columns that are required for the data analysis and feature engineering.\n",
        "\n",
        "\n",
        " * Divided the data accoring to the categorical groups to derive insights accordingly, it helped us to identify the outcomes in a structed manner with respect to the considered groups, it provided us with more specific information about the different groups we created so that we can identify insights for each group individually.\n",
        "\n",
        "  These are the diferent groups we created and worked with:-\n",
        "\n",
        "\n",
        "*   Created Nighbourhood Group: This group helped us to get an idea of which neighbourhood is the most prefered one in all of the neighbourhoods.\n",
        "\n",
        "\n",
        "*  Created room type groups: This group helped us to identify which room type is the most prefered by our customers.\n",
        "\n",
        "\n",
        "*  Created Neighbourhood area groups: This group helped us to identify which is the most prefered area within the neighbourhoods.\n",
        "\n",
        "\n",
        "We also worked on few of the relationships that helped us in few comparisons that will help our stake holders to make decisions accordingly. These are the relationships we worked with:-\n",
        "\n",
        "\n",
        "Relationship: Price vs. Room Type\n",
        "\n",
        "\n",
        "* Checked the distribution of prices for different room types.\n",
        "\n",
        "* Determined which room type is having the most expensive price distribution.\n",
        "\n",
        "Relationship: Reviews per Month vs. Room Type\n",
        "\n",
        "* Compared the distribution of reviews per month for different room types.\n",
        "\n",
        "* Explored the level of engagement and satisfaction of our customers as per different room types.\n",
        "\n",
        "Relationship: Price vs. Neighbourhood\n",
        "\n",
        "* Compared the distribution of prices across different neighbourhoods.\n",
        "\n",
        "* Identified neighbourhoods with higher or lower average prices and explored price variations as per the areas.\n",
        "\n",
        " These are the manipulations that we did in order to derive useful information so that it can contribute into the growth of our business and also the busniness of our hosts, and ultimately grow and improve tavelling experience for our customers.\n",
        "\n",
        "The specifilly derived insights will be mentioned with the visualisations so that it would be better to understand and visualize at the same time."
      ],
      "metadata": {
        "id": "MSa1f5Uengrz"
      }
    },
    {
      "cell_type": "markdown",
      "source": [
        "## ***4. Data Vizualization, Storytelling & Experimenting with charts : Understand the relationships between variables***"
      ],
      "metadata": {
        "id": "GF8Ens_Soomf"
      }
    },
    {
      "cell_type": "markdown",
      "source": [
        "#### Chart - 1"
      ],
      "metadata": {
        "id": "0wOQAZs5pc--"
      }
    },
    {
      "cell_type": "code",
      "source": [
        "# Chart - 1 visualization code\n",
        "# Let's visualize the most prefered neighbourhood group with a bar chart\n",
        "\n",
        "group_feat_df # As we have already created a dataframe for the groups\n",
        "\n",
        "plt.figure(figsize=(10,5))\n",
        "# plt.plot(groups,listings, color='black', marker = \"o\", markerfacecolor = 'blue', markeredgecolor='blue',linestyle='-')\n",
        "colors = ['red', 'blue', 'green', 'orange', 'purple'] # To make each bar with a different color\n",
        "sns.barplot(x=\"Group\", y='Listing Count', data=group_feat_df, hue='Group', palette=colors, legend=False)\n",
        "plt.xlabel('Groups')\n",
        "plt.ylabel('Listing Counts')\n",
        "plt.title('Most prefered neighbourhood')\n",
        "for x, y in zip(range(len(groups)), listings):\n",
        "    plt.text(x, y, f'{y}', ha='center', va='bottom') # To annotate each bar with the exact value"
      ],
      "metadata": {
        "id": "7v_ESjsspbW7"
      },
      "execution_count": null,
      "outputs": []
    },
    {
      "cell_type": "markdown",
      "source": [
        "##### 1. Why did you pick the specific chart?"
      ],
      "metadata": {
        "id": "K5QZ13OEpz2H"
      }
    },
    {
      "cell_type": "markdown",
      "source": [
        "As we need to check which of the groups is having the highest preference, it was quite certain that we need to check the value attained by each group and we also wanted to see the comparison between all the groups, for doing this, bar chart is the best option."
      ],
      "metadata": {
        "id": "XESiWehPqBRc"
      }
    },
    {
      "cell_type": "markdown",
      "source": [
        "##### 2. What is/are the insight(s) found from the chart?"
      ],
      "metadata": {
        "id": "lQ7QKXXCp7Bj"
      }
    },
    {
      "cell_type": "markdown",
      "source": [
        "As we can clearly see that Manhattan is the most prefered group among all and it is outperforming all the other groups with a huge difference, Brooklyn is the 2nd prefernce of our customers after Manhattan.\n",
        "\n"
      ],
      "metadata": {
        "id": "C_j1G7yiqdRP"
      }
    },
    {
      "cell_type": "markdown",
      "source": [
        "##### 3. Will the gained insights help creating a positive business impact?\n",
        "Are there any insights that lead to negative growth? Justify with specific reason."
      ],
      "metadata": {
        "id": "448CDAPjqfQr"
      }
    },
    {
      "cell_type": "markdown",
      "source": [
        "Absolutely, as we know what are the preferences of our customers we will be able to work on those things that are mostly in demand and we will be able to meet their requirements for their satisfaction, as here in this case we know that the most prefered group is Manhattan, we can target our customers with the availabilites in that area.\n",
        "\n",
        "If we talk about the negative growth, well it is quite there for our other neighbourhood groups, as there is low demand in the other neighbourhoods, however we will be able to come up with a solution if we try to find out why is that, the most prefered group is Manhattan, if we do that we will be able to identify the cause for low demad in those areas, we need to focus on the reasons and the difference so that we can get to the roots of this."
      ],
      "metadata": {
        "id": "3cspy4FjqxJW"
      }
    },
    {
      "cell_type": "markdown",
      "source": [
        "#### Chart - 2"
      ],
      "metadata": {
        "id": "KSlN3yHqYklG"
      }
    },
    {
      "cell_type": "code",
      "source": [
        "# Chart - 2 visualization code\n",
        "# Let's visualize the most prefered room type using a pie chart\n",
        "\n",
        "room_feat_df # Our grouped df created earlier\n",
        "\n",
        "# Plotting the data into a pie chart\n",
        "plt.pie(room_feat_df['Listing Count'], labels=room_feat_df['Group'], autopct=\"%1i%%\", explode=(0.1, 0, 0.1), shadow=True)\n",
        "plt.show()"
      ],
      "metadata": {
        "id": "R4YgtaqtYklH"
      },
      "execution_count": null,
      "outputs": []
    },
    {
      "cell_type": "markdown",
      "source": [
        "##### 1. Why did you pick the specific chart?"
      ],
      "metadata": {
        "id": "t6dVpIINYklI"
      }
    },
    {
      "cell_type": "markdown",
      "source": [
        "As we were having only 3 types of rooms it was better to use a pie chart as it would be really easy to see the distribution of the listings on a pie chart and also to see the difference between the room types. In this we are also able to see the difference in percentage wich gave us a wider view on the data outcome."
      ],
      "metadata": {
        "id": "5aaW0BYyYklI"
      }
    },
    {
      "cell_type": "markdown",
      "source": [
        "##### 2. What is/are the insight(s) found from the chart?"
      ],
      "metadata": {
        "id": "ijmpgYnKYklI"
      }
    },
    {
      "cell_type": "markdown",
      "source": [
        "As we can clearly see that the \"Entire Home/Apt\" room type is the most prefered one, this clearly indicates that the people are prioritising their privacy and they would wanna stay all by themselves without having any type interference, as we see that the shared rooms are the least prefered, they are mostly prefered by the students that come from outside so that their accommodation can be affordable. This information can be easily used for more specific target approaches."
      ],
      "metadata": {
        "id": "PSx9atu2YklI"
      }
    },
    {
      "cell_type": "markdown",
      "source": [
        "##### 3. Will the gained insights help creating a positive business impact?\n",
        "Are there any insights that lead to negative growth? Justify with specific reason."
      ],
      "metadata": {
        "id": "-JiQyfWJYklI"
      }
    },
    {
      "cell_type": "markdown",
      "source": [
        "As we are able to see what is prefered by the majority of our customer we will be able to spend money on advertisements more efficiently which will help us to minimize our cost wastage, not only for the majority as what sort of customers prefer the other room types, we will be able to target them with their needs which will increase our consumer market even in the low demand sectors, which can work as a decoy for us."
      ],
      "metadata": {
        "id": "BcBbebzrYklV"
      }
    },
    {
      "cell_type": "markdown",
      "source": [
        "#### Chart - 3"
      ],
      "metadata": {
        "id": "EM7whBJCYoAo"
      }
    },
    {
      "cell_type": "code",
      "source": [
        "# Chart - 3 visualization code\n",
        "# Now let's check which price range has the most number of listings, it would give us an idea for the most prefered price range of our customers.\n",
        "# Let's plot the top 10 most prefered price range on chart.\n",
        "prefered_range = airbnb_df['price_range'].value_counts().head(10)\n",
        "plt.figure(figsize=(10,5))\n",
        "\n",
        "prefered_range_sorted = prefered_range.sort_index()\n",
        "plt.scatter(prefered_range.index, prefered_range, color='blue', marker='o')\n",
        "plt.plot(prefered_range_sorted.index, prefered_range_sorted, color='black', linestyle='-', linewidth=2, label='Line Connecting Dots')\n",
        "\n",
        "for x, y in zip(prefered_range_sorted.index, prefered_range_sorted): # To annotate each plotted value\n",
        "    plt.text(x, y, f'{y}', ha='center', va='bottom')\n",
        "plt.title(\"Top 10 Prefered Price Range\")\n",
        "plt.xlabel(\"Price Range\")\n",
        "plt.ylabel(\"Listings\")\n",
        "plt.grid(color='black')"
      ],
      "metadata": {
        "id": "t6GMdE67YoAp"
      },
      "execution_count": null,
      "outputs": []
    },
    {
      "cell_type": "markdown",
      "source": [
        "##### 1. Why did you pick the specific chart?"
      ],
      "metadata": {
        "id": "fge-S5ZAYoAp"
      }
    },
    {
      "cell_type": "markdown",
      "source": [
        "The plot chart can give us the graphical representation of the preferences of our customers regarding prices and how do they go through each of the price ranges. As we can see the chart is giving us a fall in the preferences as the price range increases.\n",
        "\n"
      ],
      "metadata": {
        "id": "5dBItgRVYoAp"
      }
    },
    {
      "cell_type": "markdown",
      "source": [
        "##### 2. What is/are the insight(s) found from the chart?"
      ],
      "metadata": {
        "id": "85gYPyotYoAp"
      }
    },
    {
      "cell_type": "markdown",
      "source": [
        "Looking at this chart we can cleary see the budget preferences of our customers and we can see that the most prefered price range is the 0-100, however there is no 0 values as we have already dropped them. This can give us an idea on the spending power of our customers which will help us in setting better and more specific prices, also at the time of listings we can even make recommendations to our customers with their prefered price ranges."
      ],
      "metadata": {
        "id": "4jstXR6OYoAp"
      }
    },
    {
      "cell_type": "markdown",
      "source": [
        "##### 3. Will the gained insights help creating a positive business impact?\n",
        "Are there any insights that lead to negative growth? Justify with specific reason."
      ],
      "metadata": {
        "id": "RoGjAbkUYoAp"
      }
    },
    {
      "cell_type": "markdown",
      "source": [
        "Are there any insights that lead to negative growth? Justify with specific reason.\n",
        "\n",
        "Yes definitely, as customers like personalized interfaces and options, if we will focus on providing them the options that are there for them only, it would be really appreciated by them as they will not have to go through a lot while searching for things they are looking for specifically."
      ],
      "metadata": {
        "id": "zfJ8IqMcYoAp"
      }
    },
    {
      "cell_type": "markdown",
      "source": [
        "#### Chart - 4"
      ],
      "metadata": {
        "id": "4Of9eVA-YrdM"
      }
    },
    {
      "cell_type": "code",
      "source": [],
      "metadata": {
        "id": "9uLqbibxIOly"
      },
      "execution_count": null,
      "outputs": []
    },
    {
      "cell_type": "code",
      "source": [
        "# Chart - 4 visualization code\n",
        "# Let us now visualize the average price division with room types.\n",
        "\n",
        "data = {\n",
        "    'Room Type': room_vs_price['Room Type'],\n",
        "    'Avg_Price': room_vs_price['Avg_Price'],\n",
        "    'Listings': ((room_feat_df['Listing Count']/room_feat_df['Listing Count'].sum())*100)\n",
        "}\n",
        "\n",
        "# Creating a DataFrame\n",
        "df = pd.DataFrame(data)\n",
        "\n",
        "df_melted = pd.melt(df, id_vars='Room Type', var_name='Attribute', value_name='Value')\n",
        "# Creating a strip plot\n",
        "sns.barplot(x='Room Type', y='Value', data=df_melted, hue=\"Attribute\", palette=['blue', 'grey'], legend=True)\n",
        "\n",
        "# Applying annotations on the values\n",
        "for p in plt.gca().patches:\n",
        "    plt.gca().annotate('{:.1f}'.format(p.get_height()), (p.get_x() + p.get_width() / 2., p.get_height()),\n",
        "                       ha='center', va='center', fontsize=10, color='black', xytext=(0, 5),\n",
        "                       textcoords='offset points')\n",
        "\n",
        "plt.show()\n"
      ],
      "metadata": {
        "id": "irlUoxc8YrdO"
      },
      "execution_count": null,
      "outputs": []
    },
    {
      "cell_type": "markdown",
      "source": [
        "##### 1. Why did you pick the specific chart?"
      ],
      "metadata": {
        "id": "iky9q4vBYrdO"
      }
    },
    {
      "cell_type": "markdown",
      "source": [
        "As we are only having 3 types it was better to use the bar chart for better visualizing the divisions of the average price and the percentage of the listings divided among these values altogether.\n",
        "\n",
        "\n"
      ],
      "metadata": {
        "id": "aJRCwT6DYrdO"
      }
    },
    {
      "cell_type": "markdown",
      "source": [
        "##### 2. What is/are the insight(s) found from the chart?"
      ],
      "metadata": {
        "id": "F6T5p64dYrdO"
      }
    },
    {
      "cell_type": "markdown",
      "source": [
        "As we can clearly see that the relationship between the average pricing the listing counts is direct, the highest pricing is in the Entire Home/Apt room type, and slo the listings division, which can be quite using in making decisions like pricing.\n",
        "\n"
      ],
      "metadata": {
        "id": "Xx8WAJvtYrdO"
      }
    },
    {
      "cell_type": "markdown",
      "source": [
        "##### 3. Will the gained insights help creating a positive business impact?\n",
        "Are there any insights that lead to negative growth? Justify with specific reason."
      ],
      "metadata": {
        "id": "y-Ehk30pYrdP"
      }
    },
    {
      "cell_type": "markdown",
      "source": [
        "Yes, as we can see what percentage is ready to pay which amount for their preferences we will be able to make better pricing strategies which will definitely assist us in the growth."
      ],
      "metadata": {
        "id": "jLNxxz7MYrdP"
      }
    },
    {
      "cell_type": "markdown",
      "source": [
        "#### Chart - 5"
      ],
      "metadata": {
        "id": "bamQiAODYuh1"
      }
    },
    {
      "cell_type": "code",
      "source": [
        "# Chart - 5 visualization code\n",
        "# Let's visualize the relationship between listing price and the number of reviews received.\n",
        "# As we are having huge number of rows for this we will be taking only top 10 price ranges.\n",
        "# For the listing prices we will take price_range\n",
        "\n",
        "sorted_range = feature_df.sort_values(by='price_range', ascending=False)\n",
        "sorted_range = sorted_range.groupby('price_range')\n",
        "range_group = []\n",
        "review_count = []\n",
        "for range, data in sorted_range:\n",
        "  range_group.append(range)\n",
        "  review_count.append(data['number_of_reviews'].sum())\n",
        "\n",
        "range_df = pd.DataFrame({\n",
        "    'Range': range_group,\n",
        "    'Review Count': review_count\n",
        "})\n",
        "plt.figure(figsize=(15, 5))\n",
        "sns.scatterplot(x='Range', y='Review Count', data=range_df.head(10), color='blue', legend=False, marker='o')\n",
        "plt.plot(range_df['Range'].head(10), range_df['Review Count'].head(10), color='grey', linestyle='--', linewidth=2, label='Line Connecting Dots')\n",
        "plt.title(\"Price vs Reviews of top 10 most prefered price range\")\n",
        "for x, y in zip(range_df['Range'].head(10), range_df['Review Count'].head(10)):\n",
        "  plt.text(x, y, f'{y}', ha='center', va='bottom')"
      ],
      "metadata": {
        "id": "TIJwrbroYuh3"
      },
      "execution_count": null,
      "outputs": []
    },
    {
      "cell_type": "code",
      "source": [
        "# Let us also check for the least 10 prefered price ranges\n",
        "plt.figure(figsize=(15, 5))\n",
        "sns.scatterplot(x='Range', y='Review Count', data=range_df.tail(10), color='blue', legend=False, marker='o')\n",
        "plt.plot(range_df['Range'].tail(10), range_df['Review Count'].tail(10), color='grey', linestyle='--', linewidth=2, label='Line Connecting Dots')\n",
        "plt.title(\"Price vs Reviews of bottom least 10 prefered price range\")\n",
        "for x, y in zip(range_df['Range'].tail(10), range_df['Review Count'].tail(10)):\n",
        "  plt.text(x, y, f'{y}', ha='center', va='bottom')"
      ],
      "metadata": {
        "id": "V51cwUOFNTgJ"
      },
      "execution_count": null,
      "outputs": []
    },
    {
      "cell_type": "markdown",
      "source": [
        "##### 1. Why did you pick the specific chart?"
      ],
      "metadata": {
        "id": "QHF8YVU7Yuh3"
      }
    },
    {
      "cell_type": "markdown",
      "source": [
        "As the difference between the no. of reviews in the price range is very huge, using a plot chart is quiet handy so that the pointers can be seen clearly with respect to their values and also their differences."
      ],
      "metadata": {
        "id": "dcxuIMRPYuh3"
      }
    },
    {
      "cell_type": "markdown",
      "source": [
        "##### 2. What is/are the insight(s) found from the chart?"
      ],
      "metadata": {
        "id": "GwzvFGzlYuh3"
      }
    },
    {
      "cell_type": "markdown",
      "source": [
        "As we can see the price range and the no. of reviews are having inverse relationship, it cleary states that the budget of our majortiy customer base lies between the range 0 - 200.\n",
        "\n",
        "We can also see that there are few preferences in the higher budget section as well where there is a competetion in the prices."
      ],
      "metadata": {
        "id": "uyqkiB8YYuh3"
      }
    },
    {
      "cell_type": "markdown",
      "source": [
        "##### 3. Will the gained insights help creating a positive business impact?\n",
        "Are there any insights that lead to negative growth? Justify with specific reason."
      ],
      "metadata": {
        "id": "qYpmQ266Yuh3"
      }
    },
    {
      "cell_type": "markdown",
      "source": [
        "This suggests that we will be able to make our pricing policies more targeted and more specific resulting in increasing customer base by providing them with the prices that are under their budget."
      ],
      "metadata": {
        "id": "_WtzZ_hCYuh4"
      }
    },
    {
      "cell_type": "markdown",
      "source": [
        "#### Chart - 6"
      ],
      "metadata": {
        "id": "OH-pJp9IphqM"
      }
    },
    {
      "cell_type": "code",
      "source": [
        "# Chart - 6 visualization code\n",
        "# Let us know the price range having the highest listings so as to get more specific idea on price preference.\n",
        "\n",
        "\n",
        "sorted_range # Sorted Price Range grouped\n",
        "range_group # List of all the price range groups\n",
        "range_listing_count = []\n",
        "\n",
        "for range, data in sorted_range:\n",
        "  range_listing_count.append(data['listings'].sum())\n",
        "\n",
        "\n",
        "range_list_df = pd.DataFrame({\n",
        "    'Range': range_group,\n",
        "    'Listing Count': range_listing_count\n",
        "})\n",
        "\n",
        "range_list_df = range_list_df.sort_values(by='Listing Count', ascending=False).reset_index(drop=True)\n",
        "\n",
        "# We will be taking on the top 5 prefered ranges.\n",
        "plt.pie(range_list_df['Listing Count'].head(), labels=range_list_df['Range'].head(), autopct=\"%1i%%\", explode=(0.1, 0.1, 0.1, 0, 0), shadow=True)\n",
        "plt.show()\n"
      ],
      "metadata": {
        "id": "kuRf4wtuphqN"
      },
      "execution_count": null,
      "outputs": []
    },
    {
      "cell_type": "markdown",
      "source": [
        "##### 1. Why did you pick the specific chart?"
      ],
      "metadata": {
        "id": "bbFf2-_FphqN"
      }
    },
    {
      "cell_type": "markdown",
      "source": [
        "Pie chart is an effective chat to clearly see the distrubutions and preferences, it becomes easier to notice the division of listngs by the price range.\n"
      ],
      "metadata": {
        "id": "loh7H2nzphqN"
      }
    },
    {
      "cell_type": "markdown",
      "source": [
        "##### 2. What is/are the insight(s) found from the chart?"
      ],
      "metadata": {
        "id": "_ouA3fa0phqN"
      }
    },
    {
      "cell_type": "markdown",
      "source": [
        "As we can see form the chart:- The top 3 price ranges that are having the most listings are:-\n",
        "\n",
        "* 200-300: 33%\n",
        "* 100-200: 28%\n",
        "* 0-100: 22%"
      ],
      "metadata": {
        "id": "VECbqPI7phqN"
      }
    },
    {
      "cell_type": "markdown",
      "source": [
        "##### 3. Will the gained insights help creating a positive business impact?\n",
        "Are there any insights that lead to negative growth? Justify with specific reason."
      ],
      "metadata": {
        "id": "Seke61FWphqN"
      }
    },
    {
      "cell_type": "markdown",
      "source": [
        "We can see the number of listings are closely divided among these sectors and this can be a great was to keep a track of all the hostels that are within this price range and create recommendations according to their prefered neighbourhoods."
      ],
      "metadata": {
        "id": "DW4_bGpfphqN"
      }
    },
    {
      "cell_type": "markdown",
      "source": [
        "#### Chart - 7"
      ],
      "metadata": {
        "id": "PIIx-8_IphqN"
      }
    },
    {
      "cell_type": "code",
      "source": [
        "# Chart - 7 visualization code\n",
        "# As now we are having the price ranges with the most listings let us check the neighbourhoods with the most listings.\n",
        "\n",
        "areas = []\n",
        "area_listing = []\n",
        "area_group = feature_df.groupby('neighbourhood')\n",
        "for area, data in area_group:\n",
        "    areas.append(area)\n",
        "    area_listing.append(data['listings'].sum())\n",
        "\n",
        "area_data_df = pd.DataFrame({\n",
        "    \"Area\": areas,\n",
        "    \"Values\": area_listing\n",
        "})\n",
        "\n",
        "area_data_df = area_data_df.sort_values(by='Values', ascending=False).reset_index(drop=True)\n",
        "area_data_df\n",
        "plt.figure(figsize=(17,5))\n",
        "# plt.plot(groups,listings, color='black', marker = \"o\", markerfacecolor = 'blue', markeredgecolor='blue',linestyle='-')\n",
        "colors = ['red', 'blue', 'green', 'orange', 'purple']\n",
        "sns.barplot(x=\"Area\", y='Values', data=area_data_df.head(10), hue=\"Area\", palette=colors, legend=False)\n",
        "plt.title('Top 10 prefered neighbourhood areas')\n",
        "plt.xlabel('Area')\n",
        "plt.ylabel('Listing Counts')\n",
        "for x, y in zip(area_data_df['Area'].head(10), area_data_df['Values'].head(10)):\n",
        "    plt.text(x, y, f'{y}', ha='center', va='bottom')"
      ],
      "metadata": {
        "id": "lqAIGUfyphqO"
      },
      "execution_count": null,
      "outputs": []
    },
    {
      "cell_type": "markdown",
      "source": [
        "##### 1. Why did you pick the specific chart?"
      ],
      "metadata": {
        "id": "t27r6nlMphqO"
      }
    },
    {
      "cell_type": "markdown",
      "source": [
        "The bar chart clearly reflects the differece between the areas and the gap between them as per the listing counts, we can see the top ten most listed neighbourhoods."
      ],
      "metadata": {
        "id": "iv6ro40sphqO"
      }
    },
    {
      "cell_type": "markdown",
      "source": [
        "##### 2. What is/are the insight(s) found from the chart?"
      ],
      "metadata": {
        "id": "r2jJGEOYphqO"
      }
    },
    {
      "cell_type": "markdown",
      "source": [
        "We can see that the most listed neighbourhood area is the 'Financial District' and it is also having a major gap between the other ones in the list, we can clearly see that the Financial District is the most prefered neighbourhood of our customers."
      ],
      "metadata": {
        "id": "Po6ZPi4hphqO"
      }
    },
    {
      "cell_type": "markdown",
      "source": [
        "##### 3. Will the gained insights help creating a positive business impact?\n",
        "Are there any insights that lead to negative growth? Justify with specific reason."
      ],
      "metadata": {
        "id": "b0JNsNcRphqO"
      }
    },
    {
      "cell_type": "markdown",
      "source": [
        "Yes, as this insight suggests the areas where there is a great scope for business and we can create more opportunities and also increase our Advertisements in a more targetted manner."
      ],
      "metadata": {
        "id": "xvSq8iUTphqO"
      }
    },
    {
      "cell_type": "markdown",
      "source": [
        "#### Chart - 8"
      ],
      "metadata": {
        "id": "BZR9WyysphqO"
      }
    },
    {
      "cell_type": "code",
      "source": [
        "# Chart - 8 visualization code\n",
        "# Reviews vs Review per month\n",
        "sns.scatterplot(x='number_of_reviews', y='reviews_per_month', data=feature_df)"
      ],
      "metadata": {
        "id": "TdPTWpAVphqO"
      },
      "execution_count": null,
      "outputs": []
    },
    {
      "cell_type": "markdown",
      "source": [
        "##### 1. Why did you pick the specific chart?"
      ],
      "metadata": {
        "id": "jj7wYXLtphqO"
      }
    },
    {
      "cell_type": "markdown",
      "source": [
        "In this case using a scatter plot can easily tell us the frequency, as we can see the review traffic is not that scattere and is rather collective."
      ],
      "metadata": {
        "id": "Ob8u6rCTphqO"
      }
    },
    {
      "cell_type": "markdown",
      "source": [
        "##### 2. What is/are the insight(s) found from the chart?"
      ],
      "metadata": {
        "id": "eZrbJ2SmphqO"
      }
    },
    {
      "cell_type": "markdown",
      "source": [
        "As we can clearly see that there is an outlier as well, however the relationship between the reviews and reviews per month is quiet direct which means that the customer are getting satisfied with the outcomes, where the number of review is higher and the host is also getting good reach towards consumer market."
      ],
      "metadata": {
        "id": "mZtgC_hjphqO"
      }
    },
    {
      "cell_type": "markdown",
      "source": [
        "##### 3. Will the gained insights help creating a positive business impact?\n",
        "Are there any insights that lead to negative growth? Justify with specific reason."
      ],
      "metadata": {
        "id": "rFu4xreNphqO"
      }
    },
    {
      "cell_type": "markdown",
      "source": [
        "Yes as we can seek out the difference from the given reviews and make specific recommendations to our hosts about what changes can be done by them in order to increase their reach to the customers. This can be one of our premium services that can widely help our hosts."
      ],
      "metadata": {
        "id": "ey_0qi68phqO"
      }
    },
    {
      "cell_type": "markdown",
      "source": [
        "#### Chart - 9"
      ],
      "metadata": {
        "id": "YJ55k-q6phqO"
      }
    },
    {
      "cell_type": "code",
      "source": [
        "# Chart - 9 visualization code\n"
      ],
      "metadata": {
        "id": "B2aS4O1ophqO"
      },
      "execution_count": null,
      "outputs": []
    },
    {
      "cell_type": "markdown",
      "source": [
        "##### 1. Why did you pick the specific chart?"
      ],
      "metadata": {
        "id": "gCFgpxoyphqP"
      }
    },
    {
      "cell_type": "markdown",
      "source": [],
      "metadata": {
        "id": "TVxDimi2phqP"
      }
    },
    {
      "cell_type": "markdown",
      "source": [
        "##### 2. What is/are the insight(s) found from the chart?"
      ],
      "metadata": {
        "id": "OVtJsKN_phqQ"
      }
    },
    {
      "cell_type": "markdown",
      "source": [
        "##### 3. Will the gained insights help creating a positive business impact?\n",
        "Are there any insights that lead to negative growth? Justify with specific reason."
      ],
      "metadata": {
        "id": "lssrdh5qphqQ"
      }
    },
    {
      "cell_type": "markdown",
      "source": [
        "#### Chart - 10"
      ],
      "metadata": {
        "id": "U2RJ9gkRphqQ"
      }
    },
    {
      "cell_type": "code",
      "source": [
        "# Chart - 10 visualization code"
      ],
      "metadata": {
        "id": "GM7a4YP4phqQ"
      },
      "execution_count": null,
      "outputs": []
    },
    {
      "cell_type": "markdown",
      "source": [
        "##### 1. Why did you pick the specific chart?"
      ],
      "metadata": {
        "id": "1M8mcRywphqQ"
      }
    },
    {
      "cell_type": "markdown",
      "source": [
        "Answer Here."
      ],
      "metadata": {
        "id": "8agQvks0phqQ"
      }
    },
    {
      "cell_type": "markdown",
      "source": [
        "##### 2. What is/are the insight(s) found from the chart?"
      ],
      "metadata": {
        "id": "tgIPom80phqQ"
      }
    },
    {
      "cell_type": "markdown",
      "source": [
        "Answer Here"
      ],
      "metadata": {
        "id": "Qp13pnNzphqQ"
      }
    },
    {
      "cell_type": "markdown",
      "source": [
        "##### 3. Will the gained insights help creating a positive business impact?\n",
        "Are there any insights that lead to negative growth? Justify with specific reason."
      ],
      "metadata": {
        "id": "JMzcOPDDphqR"
      }
    },
    {
      "cell_type": "markdown",
      "source": [
        "Answer Here"
      ],
      "metadata": {
        "id": "R4Ka1PC2phqR"
      }
    },
    {
      "cell_type": "markdown",
      "source": [
        "#### Chart - 11"
      ],
      "metadata": {
        "id": "x-EpHcCOp1ci"
      }
    },
    {
      "cell_type": "code",
      "source": [
        "# Chart - 11 visualization code"
      ],
      "metadata": {
        "id": "mAQTIvtqp1cj"
      },
      "execution_count": null,
      "outputs": []
    },
    {
      "cell_type": "markdown",
      "source": [
        "##### 1. Why did you pick the specific chart?"
      ],
      "metadata": {
        "id": "X_VqEhTip1ck"
      }
    },
    {
      "cell_type": "markdown",
      "source": [
        "Answer Here."
      ],
      "metadata": {
        "id": "-vsMzt_np1ck"
      }
    },
    {
      "cell_type": "markdown",
      "source": [
        "##### 2. What is/are the insight(s) found from the chart?"
      ],
      "metadata": {
        "id": "8zGJKyg5p1ck"
      }
    },
    {
      "cell_type": "markdown",
      "source": [
        "Answer Here"
      ],
      "metadata": {
        "id": "ZYdMsrqVp1ck"
      }
    },
    {
      "cell_type": "markdown",
      "source": [
        "##### 3. Will the gained insights help creating a positive business impact?\n",
        "Are there any insights that lead to negative growth? Justify with specific reason."
      ],
      "metadata": {
        "id": "PVzmfK_Ep1ck"
      }
    },
    {
      "cell_type": "markdown",
      "source": [
        "Answer Here"
      ],
      "metadata": {
        "id": "druuKYZpp1ck"
      }
    },
    {
      "cell_type": "markdown",
      "source": [
        "#### Chart - 12"
      ],
      "metadata": {
        "id": "n3dbpmDWp1ck"
      }
    },
    {
      "cell_type": "code",
      "source": [
        "# Chart - 12 visualization code"
      ],
      "metadata": {
        "id": "bwevp1tKp1ck"
      },
      "execution_count": null,
      "outputs": []
    },
    {
      "cell_type": "markdown",
      "source": [
        "##### 1. Why did you pick the specific chart?"
      ],
      "metadata": {
        "id": "ylSl6qgtp1ck"
      }
    },
    {
      "cell_type": "markdown",
      "source": [
        "Answer Here."
      ],
      "metadata": {
        "id": "m2xqNkiQp1ck"
      }
    },
    {
      "cell_type": "markdown",
      "source": [
        "##### 2. What is/are the insight(s) found from the chart?"
      ],
      "metadata": {
        "id": "ZWILFDl5p1ck"
      }
    },
    {
      "cell_type": "markdown",
      "source": [
        "Answer Here"
      ],
      "metadata": {
        "id": "x-lUsV2mp1ck"
      }
    },
    {
      "cell_type": "markdown",
      "source": [
        "##### 3. Will the gained insights help creating a positive business impact?\n",
        "Are there any insights that lead to negative growth? Justify with specific reason."
      ],
      "metadata": {
        "id": "M7G43BXep1ck"
      }
    },
    {
      "cell_type": "markdown",
      "source": [
        "Answer Here"
      ],
      "metadata": {
        "id": "5wwDJXsLp1cl"
      }
    },
    {
      "cell_type": "markdown",
      "source": [
        "#### Chart - 13"
      ],
      "metadata": {
        "id": "Ag9LCva-p1cl"
      }
    },
    {
      "cell_type": "code",
      "source": [
        "# Chart - 13 visualization code"
      ],
      "metadata": {
        "id": "EUfxeq9-p1cl"
      },
      "execution_count": null,
      "outputs": []
    },
    {
      "cell_type": "markdown",
      "source": [
        "##### 1. Why did you pick the specific chart?"
      ],
      "metadata": {
        "id": "E6MkPsBcp1cl"
      }
    },
    {
      "cell_type": "markdown",
      "source": [
        "Answer Here."
      ],
      "metadata": {
        "id": "V22bRsFWp1cl"
      }
    },
    {
      "cell_type": "markdown",
      "source": [
        "##### 2. What is/are the insight(s) found from the chart?"
      ],
      "metadata": {
        "id": "2cELzS2fp1cl"
      }
    },
    {
      "cell_type": "markdown",
      "source": [
        "Answer Here"
      ],
      "metadata": {
        "id": "ozQPc2_Ip1cl"
      }
    },
    {
      "cell_type": "markdown",
      "source": [
        "##### 3. Will the gained insights help creating a positive business impact?\n",
        "Are there any insights that lead to negative growth? Justify with specific reason."
      ],
      "metadata": {
        "id": "3MPXvC8up1cl"
      }
    },
    {
      "cell_type": "markdown",
      "source": [
        "Answer Here"
      ],
      "metadata": {
        "id": "GL8l1tdLp1cl"
      }
    },
    {
      "cell_type": "markdown",
      "source": [
        "#### Chart - 14 - Correlation Heatmap"
      ],
      "metadata": {
        "id": "NC_X3p0fY2L0"
      }
    },
    {
      "cell_type": "code",
      "source": [
        "# Correlation Heatmap visualization code\n",
        "feature_df.describe()\n",
        "\n",
        "# using corr() function to check the correlation between numeric columns.\n",
        "corr_df = feature_df[['price', 'minimum_nights', 'number_of_reviews',\n",
        "             'reviews_per_month', 'listings', 'availability_365']].corr()\n",
        "\n",
        "# Visualizing correlation using seaborn heatmap, using annotations.\n",
        "sns.heatmap(corr_df, annot=True)"
      ],
      "metadata": {
        "id": "xyC9zolEZNRQ"
      },
      "execution_count": null,
      "outputs": []
    },
    {
      "cell_type": "markdown",
      "source": [
        "##### 1. Why did you pick the specific chart?"
      ],
      "metadata": {
        "id": "UV0SzAkaZNRQ"
      }
    },
    {
      "cell_type": "markdown",
      "source": [
        "In order to check the correlation between numeric columns the heatmap is a really great option as it indicates the depth of each correlation with a different color, lighter to darker depending on the depth, not just that, it gives a proper one look visual about the data we want to check."
      ],
      "metadata": {
        "id": "DVPuT8LYZNRQ"
      }
    },
    {
      "cell_type": "markdown",
      "source": [
        "##### 2. What is/are the insight(s) found from the chart?"
      ],
      "metadata": {
        "id": "YPEH6qLeZNRQ"
      }
    },
    {
      "cell_type": "markdown",
      "source": [
        "This chart helped us to identify which pairs of variables have strong positive or negative correlations.\n",
        "\n",
        "It also helped us understand which variables are most closely related to each other.\n",
        "\n",
        "It even highlighted potential multicollinearity issues (high correlations between independent variables) if we plan to use regression analysis."
      ],
      "metadata": {
        "id": "bfSqtnDqZNRR"
      }
    },
    {
      "cell_type": "markdown",
      "source": [
        "#### Chart - 15 - Pair Plot"
      ],
      "metadata": {
        "id": "q29F0dvdveiT"
      }
    },
    {
      "cell_type": "code",
      "source": [
        "# Pair Plot visualization code\n",
        "# Let's create a pairplot to know the relationship between our few variables.\n",
        "\n",
        "pair_df = feature_df[['price', 'minimum_nights', 'number_of_reviews', 'reviews_per_month', 'listings', 'availability_365', 'price_range']]\n",
        "sns.pairplot(pair_df)"
      ],
      "metadata": {
        "id": "o58-TEIhveiU"
      },
      "execution_count": null,
      "outputs": []
    },
    {
      "cell_type": "markdown",
      "source": [
        "##### 1. Why did you pick the specific chart?"
      ],
      "metadata": {
        "id": "EXh0U9oCveiU"
      }
    },
    {
      "cell_type": "markdown",
      "source": [
        "Here we can easily see the distribution of our numerical variables, it will also give us an overview of our dataset and the relationships between our variables."
      ],
      "metadata": {
        "id": "eMmPjTByveiU"
      }
    },
    {
      "cell_type": "markdown",
      "source": [
        "##### 2. What is/are the insight(s) found from the chart?"
      ],
      "metadata": {
        "id": "22aHeOlLveiV"
      }
    },
    {
      "cell_type": "markdown",
      "source": [
        "Yes, we can see that the utmost majority of our complete data set is within the price range of 0-2500."
      ],
      "metadata": {
        "id": "uPQ8RGwHveiV"
      }
    },
    {
      "cell_type": "markdown",
      "source": [
        "## **5. Solution to Business Objective**"
      ],
      "metadata": {
        "id": "JcMwzZxoAimU"
      }
    },
    {
      "cell_type": "markdown",
      "source": [
        "#### What do you suggest the client to achieve Business Objective ?\n",
        "Explain Briefly."
      ],
      "metadata": {
        "id": "8G2x9gOozGDZ"
      }
    },
    {
      "cell_type": "markdown",
      "source": [
        "\n",
        "\n",
        "Coming up to the solution of our business objective, we have throughly studied the whole data set and drawn some conclusions based on that, here are all the pointers we can take into consideration.\n",
        "\n",
        "\n",
        "* 0-300 is the most prefered price range, which gives us a clear idea on what basis we will have to create our pricing.\n",
        "\n",
        "* Entire home/apt being the most prefered room type makes it obvious that customers are very much concerned about their privacy and safety, we can create more relevant policies regarding their safety and privacy, ulimately resulting in gaining their trust and creating goodwill.\n",
        "\n",
        "* We know that the most prefered area is the Financial District which is in the Manhattan Neighbourhood Group, hence we can create recommendations as per the pricing and area preferrences.\n",
        "\n",
        "* The most reviews are also given to the same area itself we can take into consideration those points which proved to be the most satisfying for our customers so that we can make such changes in the other neighbourhoods, if possible, whcih will result in getting us more business in the other areas as well.\n",
        "\n",
        "* I personally feel that this dataset should have one more column as per the occupation of the customer, it will create different groups of our customers based upon their occupation, which will help us to determine the preference of people coming from different sectors and we can identify which group of customers prefers which kind of accomodations.\n",
        "\n",
        "* This dataset also gave us a good idea on the budget of the majority of our consumer market, and now just that we were able to see the ratio of prefered pricing.\n",
        "\n",
        "* We were clearly able to see where most of our business lies and which consumer group creates the most of the business for us, we can make improvements in those and not just that we can also focus on the other sectors as well so that we can expand our business even more."
      ],
      "metadata": {
        "id": "pASKb0qOza21"
      }
    },
    {
      "cell_type": "markdown",
      "source": [
        "# **Conclusion**"
      ],
      "metadata": {
        "id": "gCX9965dhzqZ"
      }
    },
    {
      "cell_type": "markdown",
      "source": [
        "The conclusion of this complete EDA project is simple and crisp, we have enough data to see what is liked by our customers and what is it that they are demanding as is is clear that around 90% of our business is saturated into one side whether it is the area preference or pricing, we can use that information to check what works for our customers and make those changes in other areas as well."
      ],
      "metadata": {
        "id": "Fjb1IsQkh3yE"
      }
    },
    {
      "cell_type": "markdown",
      "source": [
        "### ***Hurrah! You have successfully completed your EDA Capstone Project !!!***"
      ],
      "metadata": {
        "id": "gIfDvo9L0UH2"
      }
    }
  ]
}